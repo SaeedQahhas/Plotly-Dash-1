{
 "cells": [
  {
   "cell_type": "markdown",
   "metadata": {},
   "source": [
    "# Q0: import dash standard libraries"
   ]
  },
  {
   "cell_type": "code",
   "execution_count": 5,
   "metadata": {},
   "outputs": [],
   "source": [
    "from dash import Dash, dcc, html, Input, Output\n",
    "from jupyter_dash import JupyterDash\n",
    "import dash_bootstrap_components as dbc\n",
    "import warnings\n",
    "warnings.filterwarnings(\"ignore\")"
   ]
  },
  {
   "cell_type": "markdown",
   "metadata": {},
   "source": [
    "# Q1: Make dash that prints \"Data Science\""
   ]
  },
  {
   "cell_type": "code",
   "execution_count": 3,
   "metadata": {},
   "outputs": [
    {
     "data": {
      "text/html": [
       "\n",
       "        <iframe\n",
       "            width=\"100%\"\n",
       "            height=\"650\"\n",
       "            src=\"http://127.0.0.1:8271/\"\n",
       "            frameborder=\"0\"\n",
       "            allowfullscreen\n",
       "            \n",
       "        ></iframe>\n",
       "        "
      ],
      "text/plain": [
       "<IPython.lib.display.IFrame at 0x286d6c31df0>"
      ]
     },
     "metadata": {},
     "output_type": "display_data"
    },
    {
     "name": "stdout",
     "output_type": "stream",
     "text": [
      "Dash app running on http://127.0.0.1:8271/\n"
     ]
    }
   ],
   "source": [
    "app = JupyterDash()\n",
    "\n",
    "app.layout = html.H1('Data Science', style = {'text-align':'center'})\n",
    "    \n",
    "app.run_server(port = 8271)"
   ]
  },
  {
   "cell_type": "markdown",
   "metadata": {},
   "source": [
    "# Q2: Make dash that takes name input and outpt \"Welcome to Data Science dashboard {name}\""
   ]
  },
  {
   "cell_type": "code",
   "execution_count": 9,
   "metadata": {},
   "outputs": [
    {
     "data": {
      "text/html": [
       "\n",
       "        <iframe\n",
       "            width=\"100%\"\n",
       "            height=\"650\"\n",
       "            src=\"http://127.0.0.1:8275/\"\n",
       "            frameborder=\"0\"\n",
       "            allowfullscreen\n",
       "            \n",
       "        ></iframe>\n",
       "        "
      ],
      "text/plain": [
       "<IPython.lib.display.IFrame at 0x286d6e12a00>"
      ]
     },
     "metadata": {},
     "output_type": "display_data"
    }
   ],
   "source": [
    "import dash\n",
    "import dash_html_components as html\n",
    "import dash_core_components as dcc\n",
    "app = dash.Dash(__name__)\n",
    "\n",
    "app.layout = html.Div([\n",
    "    html.H1(\"Data Science Dashboard\"),\n",
    "    html.Label(\"Enter your name:\"),\n",
    "    dcc.Input(id='name-input', type='text', placeholder='Enter your name'),\n",
    "    html.Div(id='output-message')\n",
    "])\n",
    "\n",
    "@app.callback(\n",
    "    Output('output-message', 'children'),\n",
    "    [Input('name-input', 'value')]\n",
    ")\n",
    "def display_welcome_message(name):\n",
    "    if name:\n",
    "        return html.H2(f\"Welcome to Data Science Dashboard, {name}!\")\n",
    "    else:\n",
    "        return ''\n",
    "\n",
    "if __name__ == '__main__':\n",
    "    app.run_server(port = 8275)"
   ]
  },
  {
   "cell_type": "markdown",
   "metadata": {},
   "source": [
    "# Q3: Make Plotly-Dash that takes two inputs (numbers) and output 3 numbers x, y , z= x+y\n",
    "- hint: use html.Div, dcc.Input(type='number')"
   ]
  },
  {
   "cell_type": "code",
   "execution_count": 11,
   "metadata": {},
   "outputs": [
    {
     "data": {
      "text/html": [
       "\n",
       "        <iframe\n",
       "            width=\"100%\"\n",
       "            height=\"650\"\n",
       "            src=\"http://127.0.0.1:7777/\"\n",
       "            frameborder=\"0\"\n",
       "            allowfullscreen\n",
       "            \n",
       "        ></iframe>\n",
       "        "
      ],
      "text/plain": [
       "<IPython.lib.display.IFrame at 0x286d6dff400>"
      ]
     },
     "metadata": {},
     "output_type": "display_data"
    }
   ],
   "source": [
    "import dash\n",
    "import dash_html_components as html\n",
    "import dash_core_components as dcc\n",
    "from dash.dependencies import Input, Output\n",
    "\n",
    "app = dash.Dash(__name__)\n",
    "\n",
    "app.layout = html.Div([\n",
    "    html.H1(\"Number Sum Calculator\"),\n",
    "    html.Div([\n",
    "        html.Label(\"Enter number x:\"),\n",
    "        dcc.Input(id='input-x', type='number', placeholder='Enter number x')\n",
    "    ], style={'margin-bottom': '10px'}),\n",
    "    html.Div([\n",
    "        html.Label(\"Enter number y:\"),\n",
    "        dcc.Input(id='input-y', type='number', placeholder='Enter number y')\n",
    "    ], style={'margin-bottom': '10px'}),\n",
    "    html.Div(id='output-sum')\n",
    "])\n",
    "\n",
    "@app.callback(\n",
    "    Output('output-sum', 'children'),\n",
    "    [Input('input-x', 'value'),\n",
    "     Input('input-y', 'value')]\n",
    ")\n",
    "def calculate_sum(x, y):\n",
    "    if x is not None and y is not None:\n",
    "        z = x + y\n",
    "        return html.H2(f\"Sum: {z}\")\n",
    "    else:\n",
    "        return ''\n",
    "\n",
    "if __name__ == '__main__':\n",
    "    app.run_server(port = 7777)"
   ]
  },
  {
   "cell_type": "markdown",
   "metadata": {},
   "source": [
    "# Q4.1: Make JubyterDash with Rangeslider from 1-15 with 6 option"
   ]
  },
  {
   "cell_type": "code",
   "execution_count": 14,
   "metadata": {},
   "outputs": [
    {
     "data": {
      "text/html": [
       "\n",
       "        <iframe\n",
       "            width=\"100%\"\n",
       "            height=\"650\"\n",
       "            src=\"http://127.0.0.1:8998/\"\n",
       "            frameborder=\"0\"\n",
       "            allowfullscreen\n",
       "            \n",
       "        ></iframe>\n",
       "        "
      ],
      "text/plain": [
       "<IPython.lib.display.IFrame at 0x286d6ea2190>"
      ]
     },
     "metadata": {},
     "output_type": "display_data"
    },
    {
     "data": {
      "text/html": [
       "\n",
       "        <iframe\n",
       "            width=\"100%\"\n",
       "            height=\"650\"\n",
       "            src=\"http://127.0.0.1:8998/\"\n",
       "            frameborder=\"0\"\n",
       "            allowfullscreen\n",
       "            \n",
       "        ></iframe>\n",
       "        "
      ],
      "text/plain": [
       "<IPython.lib.display.IFrame at 0x286d6d581f0>"
      ]
     },
     "metadata": {},
     "output_type": "display_data"
    },
    {
     "name": "stderr",
     "output_type": "stream",
     "text": [
      "Exception in thread Thread-512:\n",
      "Traceback (most recent call last):\n",
      "  File \"C:\\Users\\saeed\\anaconda3\\lib\\threading.py\", line 973, in _bootstrap_inner\n",
      "    self.run()\n",
      "  File \"C:\\Users\\saeed\\anaconda3\\lib\\threading.py\", line 910, in run\n",
      "    self._target(*self._args, **self._kwargs)\n",
      "  File \"C:\\Users\\saeed\\anaconda3\\lib\\site-packages\\retrying.py\", line 56, in wrapped_f\n",
      "    return Retrying(*dargs, **dkw).call(f, *args, **kw)\n",
      "  File \"C:\\Users\\saeed\\anaconda3\\lib\\site-packages\\retrying.py\", line 266, in call\n",
      "    raise attempt.get()\n",
      "  File \"C:\\Users\\saeed\\anaconda3\\lib\\site-packages\\retrying.py\", line 301, in get\n",
      "    six.reraise(self.value[0], self.value[1], self.value[2])\n",
      "  File \"C:\\Users\\saeed\\anaconda3\\lib\\site-packages\\six.py\", line 719, in reraise\n",
      "    raise value\n",
      "  File \"C:\\Users\\saeed\\anaconda3\\lib\\site-packages\\retrying.py\", line 251, in call\n",
      "    attempt = Attempt(fn(*args, **kwargs), attempt_number, False)\n",
      "  File \"C:\\Users\\saeed\\anaconda3\\lib\\site-packages\\jupyter_dash\\jupyter_app.py\", line 305, in run\n",
      "    super_run_server(**kwargs)\n",
      "  File \"C:\\Users\\saeed\\anaconda3\\lib\\site-packages\\dash\\dash.py\", line 2126, in run_server\n",
      "    self.run(*args, **kwargs)\n",
      "  File \"C:\\Users\\saeed\\anaconda3\\lib\\site-packages\\dash\\dash.py\", line 2024, in run\n",
      "    jupyter_dash.run_app(\n",
      "  File \"C:\\Users\\saeed\\anaconda3\\lib\\site-packages\\dash\\_jupyter.py\", line 401, in run_app\n",
      "    raise final_error\n",
      "  File \"C:\\Users\\saeed\\anaconda3\\lib\\site-packages\\dash\\_jupyter.py\", line 388, in run_app\n",
      "    wait_for_app()\n",
      "  File \"C:\\Users\\saeed\\anaconda3\\lib\\site-packages\\retrying.py\", line 56, in wrapped_f\n",
      "    return Retrying(*dargs, **dkw).call(f, *args, **kw)\n",
      "  File \"C:\\Users\\saeed\\anaconda3\\lib\\site-packages\\retrying.py\", line 266, in call\n",
      "    raise attempt.get()\n",
      "  File \"C:\\Users\\saeed\\anaconda3\\lib\\site-packages\\retrying.py\", line 301, in get\n",
      "    six.reraise(self.value[0], self.value[1], self.value[2])\n",
      "  File \"C:\\Users\\saeed\\anaconda3\\lib\\site-packages\\six.py\", line 719, in reraise\n",
      "    raise value\n",
      "  File \"C:\\Users\\saeed\\anaconda3\\lib\\site-packages\\retrying.py\", line 251, in call\n",
      "    attempt = Attempt(fn(*args, **kwargs), attempt_number, False)\n",
      "  File \"C:\\Users\\saeed\\anaconda3\\lib\\site-packages\\dash\\_jupyter.py\", line 379, in wait_for_app\n",
      "    raise OSError(\n",
      "OSError: Address 'http://127.0.0.1:8050' already in use.\n",
      "    Try passing a different port to run_server.\n"
     ]
    }
   ],
   "source": [
    "\n",
    "app = JupyterDash(__name__)\n",
    "\n",
    "app.layout = html.Div([\n",
    "    html.H1(\"RangeSlider Example\"),\n",
    "    dcc.RangeSlider(\n",
    "        id='range-slider',\n",
    "        min=1,\n",
    "        max=15,\n",
    "        marks={i: str(i) for i in range(1, 16, 3)},\n",
    "        value=[3, 9]\n",
    "    ),\n",
    "    html.Div(id='output-container', style={'margin-top': 20})\n",
    "])\n",
    "\n",
    "@app.callback(\n",
    "    dash.dependencies.Output('output-container', 'children'),\n",
    "    [dash.dependencies.Input('range-slider', 'value')]\n",
    ")\n",
    "def update_output(value):\n",
    "    return f\"The selected range is from {value[0]} to {value[1]}\"\n",
    "\n",
    "if __name__ == '__main__':\n",
    "    app.run_server(mode='inline', port = 8998)"
   ]
  },
  {
   "cell_type": "markdown",
   "metadata": {},
   "source": [
    "# Q4.2: add to the previous dash: Label, set default value on rangeslider as 7-10"
   ]
  },
  {
   "cell_type": "code",
   "execution_count": 16,
   "metadata": {},
   "outputs": [
    {
     "data": {
      "text/html": [
       "\n",
       "        <iframe\n",
       "            width=\"100%\"\n",
       "            height=\"650\"\n",
       "            src=\"http://127.0.0.1:7676/\"\n",
       "            frameborder=\"0\"\n",
       "            allowfullscreen\n",
       "            \n",
       "        ></iframe>\n",
       "        "
      ],
      "text/plain": [
       "<IPython.lib.display.IFrame at 0x286d6e59cd0>"
      ]
     },
     "metadata": {},
     "output_type": "display_data"
    },
    {
     "data": {
      "text/html": [
       "\n",
       "        <iframe\n",
       "            width=\"100%\"\n",
       "            height=\"650\"\n",
       "            src=\"http://127.0.0.1:7676/\"\n",
       "            frameborder=\"0\"\n",
       "            allowfullscreen\n",
       "            \n",
       "        ></iframe>\n",
       "        "
      ],
      "text/plain": [
       "<IPython.lib.display.IFrame at 0x286d6f323a0>"
      ]
     },
     "metadata": {},
     "output_type": "display_data"
    }
   ],
   "source": [
    "app.layout = html.Div([\n",
    "    html.H1(\"RangeSlider Example\"),\n",
    "    html.Label('Select a range:'),\n",
    "    dcc.RangeSlider(\n",
    "        id='range-slider',\n",
    "        min=1,\n",
    "        max=15,\n",
    "        marks={i: str(i) for i in range(1, 16, 3)},\n",
    "        value=[7, 10]\n",
    "    ),\n",
    "    html.Div(id='output-container', style={'margin-top': 20})\n",
    "])\n",
    "\n",
    "@app.callback(\n",
    "    dash.dependencies.Output('output-container', 'children'),\n",
    "    [dash.dependencies.Input('range-slider', 'value')]\n",
    ")\n",
    "def update_output(value):\n",
    "    return f\"The selected range is from {value[0]} to {value[1]}\"\n",
    "\n",
    "if __name__ == '__main__':\n",
    "    app.run_server(mode='inline', port = 7676)"
   ]
  },
  {
   "cell_type": "markdown",
   "metadata": {},
   "source": [
    "# Q5: Make 3 different Dcc types (Dropdown - Checkbox...) in one dash"
   ]
  },
  {
   "cell_type": "code",
   "execution_count": 19,
   "metadata": {},
   "outputs": [
    {
     "data": {
      "text/html": [
       "\n",
       "        <iframe\n",
       "            width=\"100%\"\n",
       "            height=\"650\"\n",
       "            src=\"http://127.0.0.1:4567/\"\n",
       "            frameborder=\"0\"\n",
       "            allowfullscreen\n",
       "            \n",
       "        ></iframe>\n",
       "        "
      ],
      "text/plain": [
       "<IPython.lib.display.IFrame at 0x286d6f3d1f0>"
      ]
     },
     "metadata": {},
     "output_type": "display_data"
    },
    {
     "data": {
      "text/html": [
       "\n",
       "        <iframe\n",
       "            width=\"100%\"\n",
       "            height=\"650\"\n",
       "            src=\"http://127.0.0.1:4567/\"\n",
       "            frameborder=\"0\"\n",
       "            allowfullscreen\n",
       "            \n",
       "        ></iframe>\n",
       "        "
      ],
      "text/plain": [
       "<IPython.lib.display.IFrame at 0x286d6c313d0>"
      ]
     },
     "metadata": {},
     "output_type": "display_data"
    }
   ],
   "source": [
    "\n",
    "\n",
    "app = JupyterDash(__name__)\n",
    "\n",
    "app.layout = html.Div([\n",
    "    html.H1(\"Component Examples\"),\n",
    "    html.Label('Dropdown:'),\n",
    "    dcc.Dropdown(\n",
    "        id='dropdown',\n",
    "        options=[\n",
    "            {'label': 'Option 1', 'value': 'option1'},\n",
    "            {'label': 'Option 2', 'value': 'option2'},\n",
    "            {'label': 'Option 3', 'value': 'option3'}\n",
    "        ],\n",
    "        value='option1'\n",
    "    ),\n",
    "    html.Label('Checklist:'),\n",
    "    dcc.Checklist(\n",
    "        id='checklist',\n",
    "        options=[\n",
    "            {'label': 'Check me', 'value': 'check'}\n",
    "        ],\n",
    "        value=[]\n",
    "    ),\n",
    "    html.Label('RadioItems:'),\n",
    "    dcc.RadioItems(\n",
    "        id='radioitems',\n",
    "        options=[\n",
    "            {'label': 'Option A', 'value': 'optionA'},\n",
    "            {'label': 'Option B', 'value': 'optionB'},\n",
    "            {'label': 'Option C', 'value': 'optionC'}\n",
    "        ],\n",
    "        value='optionA'\n",
    "    ),\n",
    "    html.Div(id='output-container', style={'margin-top': 20})\n",
    "])\n",
    "\n",
    "@app.callback(\n",
    "    dash.dependencies.Output('output-container', 'children'),\n",
    "    [dash.dependencies.Input('dropdown', 'value'),\n",
    "     dash.dependencies.Input('checklist', 'value'),\n",
    "     dash.dependencies.Input('radioitems', 'value')]\n",
    ")\n",
    "def update_output(dropdown_value, checklist_value, radio_value):\n",
    "    return html.Div([\n",
    "        html.H3(f\"Dropdown value: {dropdown_value}\"),\n",
    "        html.H3(f\"Checklist value: {checklist_value}\"),\n",
    "        html.H3(f\"RadioItems value: {radio_value}\")\n",
    "    ])\n",
    "\n",
    "if __name__ == '__main__':\n",
    "    app.run_server(mode='inline', port= 4567)"
   ]
  },
  {
   "cell_type": "markdown",
   "metadata": {},
   "source": [
    "# Q6: Make Plotly chart, then add it to a plotly_dash"
   ]
  },
  {
   "cell_type": "code",
   "execution_count": 20,
   "metadata": {},
   "outputs": [],
   "source": [
    "import plotly.express as px"
   ]
  },
  {
   "cell_type": "code",
   "execution_count": 22,
   "metadata": {},
   "outputs": [
    {
     "data": {
      "text/html": [
       "\n",
       "        <iframe\n",
       "            width=\"100%\"\n",
       "            height=\"650\"\n",
       "            src=\"http://127.0.0.1:1245/\"\n",
       "            frameborder=\"0\"\n",
       "            allowfullscreen\n",
       "            \n",
       "        ></iframe>\n",
       "        "
      ],
      "text/plain": [
       "<IPython.lib.display.IFrame at 0x286d9e883d0>"
      ]
     },
     "metadata": {},
     "output_type": "display_data"
    },
    {
     "data": {
      "text/html": [
       "\n",
       "        <iframe\n",
       "            width=\"100%\"\n",
       "            height=\"650\"\n",
       "            src=\"http://127.0.0.1:1245/\"\n",
       "            frameborder=\"0\"\n",
       "            allowfullscreen\n",
       "            \n",
       "        ></iframe>\n",
       "        "
      ],
      "text/plain": [
       "<IPython.lib.display.IFrame at 0x286d9ed48b0>"
      ]
     },
     "metadata": {},
     "output_type": "display_data"
    }
   ],
   "source": [
    "app = JupyterDash(__name__)\n",
    "\n",
    "df = px.data.iris()\n",
    "scatter_fig = px.scatter(df, x=\"sepal_width\", y=\"sepal_length\", color=\"species\")\n",
    "\n",
    "app.layout = html.Div([\n",
    "    html.H1(\"Plotly Chart Example\"),\n",
    "    dcc.Graph(\n",
    "        id='scatter-plot',\n",
    "        figure=scatter_fig\n",
    "    )\n",
    "])\n",
    "\n",
    "if __name__ == '__main__':\n",
    "    app.run_server(mode='inline',port=1245)"
   ]
  },
  {
   "cell_type": "markdown",
   "metadata": {},
   "source": [
    "# Q7: From our data make plotly-dash with suitble chart, and Dropdown.\n",
    "\n",
    "- Dropdown should contain at least 3 options, each one represents different column.\n",
    "- Add label to dropdown.\n",
    "- The chart data should change depending on the selected dropdown option."
   ]
  },
  {
   "cell_type": "code",
   "execution_count": 24,
   "metadata": {},
   "outputs": [],
   "source": [
    "import pandas as pd\n",
    "df = pd.read_csv(\"titanic passenger list.csv\")"
   ]
  },
  {
   "cell_type": "code",
   "execution_count": 38,
   "metadata": {},
   "outputs": [
    {
     "data": {
      "text/html": [
       "\n",
       "        <iframe\n",
       "            width=\"100%\"\n",
       "            height=\"650\"\n",
       "            src=\"http://127.0.0.1:1899/\"\n",
       "            frameborder=\"0\"\n",
       "            allowfullscreen\n",
       "            \n",
       "        ></iframe>\n",
       "        "
      ],
      "text/plain": [
       "<IPython.lib.display.IFrame at 0x286da23dd30>"
      ]
     },
     "metadata": {},
     "output_type": "display_data"
    },
    {
     "data": {
      "text/html": [
       "\n",
       "        <iframe\n",
       "            width=\"100%\"\n",
       "            height=\"650\"\n",
       "            src=\"http://127.0.0.1:1899/\"\n",
       "            frameborder=\"0\"\n",
       "            allowfullscreen\n",
       "            \n",
       "        ></iframe>\n",
       "        "
      ],
      "text/plain": [
       "<IPython.lib.display.IFrame at 0x286da1d2f70>"
      ]
     },
     "metadata": {},
     "output_type": "display_data"
    }
   ],
   "source": [
    "import dash\n",
    "import dash_core_components as dcc\n",
    "import dash_html_components as html\n",
    "import plotly.express as px\n",
    "import pandas as pd\n",
    "from jupyter_dash import JupyterDash\n",
    "\n",
    "app = JupyterDash(__name__)\n",
    "\n",
    "# Create initial chart based on the 'Survived' column\n",
    "chart_fig = px.histogram(df, x='survived')\n",
    "\n",
    "app.layout = html.Div([\n",
    "    html.H1(\"Titanic Passenger List\"),\n",
    "    html.Label('Select a column:'),\n",
    "    dcc.Dropdown(\n",
    "        id='column-dropdown',\n",
    "        options=[\n",
    "            {'label': 'survived', 'value': 'survived'},\n",
    "            {'label': 'pclass', 'value': 'pclass'},\n",
    "            {'label': 'sex', 'value': 'sex'}\n",
    "        ],\n",
    "        value='survived'\n",
    "    ),\n",
    "    dcc.Graph(\n",
    "        id='chart',\n",
    "        figure=chart_fig\n",
    "    )\n",
    "])\n",
    "\n",
    "@app.callback(\n",
    "    dash.dependencies.Output('chart', 'figure'),\n",
    "    [dash.dependencies.Input('column-dropdown', 'value')]\n",
    ")\n",
    "def update_chart(selected_column):\n",
    "    figure = px.histogram(df, x=selected_column)\n",
    "    return figure\n",
    "\n",
    "if __name__ == '__main__':\n",
    "    app.run_server(mode='inline', port = 1899)"
   ]
  },
  {
   "cell_type": "markdown",
   "metadata": {},
   "source": [
    "# Q8: add 2 more charts to the prevoius Ploty-Dash"
   ]
  },
  {
   "cell_type": "code",
   "execution_count": 40,
   "metadata": {},
   "outputs": [
    {
     "data": {
      "text/html": [
       "\n",
       "        <iframe\n",
       "            width=\"100%\"\n",
       "            height=\"650\"\n",
       "            src=\"http://127.0.0.1:7462/\"\n",
       "            frameborder=\"0\"\n",
       "            allowfullscreen\n",
       "            \n",
       "        ></iframe>\n",
       "        "
      ],
      "text/plain": [
       "<IPython.lib.display.IFrame at 0x286da30dfd0>"
      ]
     },
     "metadata": {},
     "output_type": "display_data"
    },
    {
     "data": {
      "text/html": [
       "\n",
       "        <iframe\n",
       "            width=\"100%\"\n",
       "            height=\"650\"\n",
       "            src=\"http://127.0.0.1:7462/\"\n",
       "            frameborder=\"0\"\n",
       "            allowfullscreen\n",
       "            \n",
       "        ></iframe>\n",
       "        "
      ],
      "text/plain": [
       "<IPython.lib.display.IFrame at 0x286da234970>"
      ]
     },
     "metadata": {},
     "output_type": "display_data"
    }
   ],
   "source": [
    "chart_fig1 = px.histogram(df, x='survived')\n",
    "chart_fig2 = px.histogram(df, x='pclass')\n",
    "chart_fig3 = px.histogram(df, x='sex')\n",
    "\n",
    "app.layout = html.Div([\n",
    "    html.H1(\"Titanic Passenger List\"),\n",
    "    html.Label('Select a column:'),\n",
    "    dcc.Dropdown(\n",
    "        id='column-dropdown',\n",
    "        options=[\n",
    "            {'label': 'survived', 'value': 'survived'},\n",
    "            {'label': 'pclass', 'value': 'pclass'},\n",
    "            {'label': 'sex', 'value': 'sex'}\n",
    "        ],\n",
    "        value='Survived'\n",
    "    ),\n",
    "    dcc.Graph(\n",
    "        id='chart1',\n",
    "        figure=chart_fig1\n",
    "    ),\n",
    "    dcc.Graph(\n",
    "        id='chart2',\n",
    "        figure=chart_fig2\n",
    "    ),\n",
    "    dcc.Graph(\n",
    "        id='chart3',\n",
    "        figure=chart_fig3\n",
    "    )\n",
    "])\n",
    "\n",
    "@app.callback(\n",
    "    dash.dependencies.Output('chart1', 'figure'),\n",
    "    dash.dependencies.Output('chart2', 'figure'),\n",
    "    dash.dependencies.Output('chart3', 'figure'),\n",
    "    [dash.dependencies.Input('column-dropdown', 'value')]\n",
    ")\n",
    "def update_charts(selected_column):\n",
    "    figure1 = px.histogram(df, x=selected_column)\n",
    "    figure2 = px.histogram(df, x=selected_column)\n",
    "    figure3 = px.histogram(df, x=selected_column)\n",
    "    return figure1, figure2, figure3\n",
    "\n",
    "if __name__ == '__main__':\n",
    "    app.run_server(mode='inline',port = 7462)"
   ]
  },
  {
   "cell_type": "markdown",
   "metadata": {},
   "source": [
    "# Q9: Search for \"Plotly Gallery\" and fetch for a graph and use it with our data.\n",
    "\n",
    "- Note: You need to put the resourse addres of fetched your grapth."
   ]
  },
  {
   "cell_type": "markdown",
   "metadata": {},
   "source": [
    "# Challenge 1.1: Create Plotly dash with two charts depends on different columns of the data\n",
    "- First Chart : Pie\n",
    "- Secound Chart: is by your Choice ( Not Pie )"
   ]
  },
  {
   "cell_type": "code",
   "execution_count": null,
   "metadata": {},
   "outputs": [],
   "source": []
  },
  {
   "cell_type": "markdown",
   "metadata": {},
   "source": [
    "# Challenge 1.2: Make Hovering over a slice of the pie changes the data for the second chart depending on what the slice is."
   ]
  },
  {
   "cell_type": "code",
   "execution_count": null,
   "metadata": {},
   "outputs": [],
   "source": []
  }
 ],
 "metadata": {
  "kernelspec": {
   "display_name": "Python 3 (ipykernel)",
   "language": "python",
   "name": "python3"
  },
  "language_info": {
   "codemirror_mode": {
    "name": "ipython",
    "version": 3
   },
   "file_extension": ".py",
   "mimetype": "text/x-python",
   "name": "python",
   "nbconvert_exporter": "python",
   "pygments_lexer": "ipython3",
   "version": "3.9.7"
  }
 },
 "nbformat": 4,
 "nbformat_minor": 2
}
